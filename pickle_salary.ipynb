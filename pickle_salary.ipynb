{
 "cells": [
  {
   "cell_type": "code",
   "execution_count": 1,
   "id": "4a75b7d0-4791-4eca-b21a-382b9bc2a2d2",
   "metadata": {},
   "outputs": [],
   "source": [
    "import pickle"
   ]
  },
  {
   "cell_type": "code",
   "execution_count": 2,
   "id": "1463de9b-ddfd-4df9-ab35-77cbbd835e93",
   "metadata": {},
   "outputs": [],
   "source": [
    "with open('model_pickle', 'rb') as file:\n",
    "    Lin1 = pickle.load(file)"
   ]
  },
  {
   "cell_type": "code",
   "execution_count": 3,
   "id": "f24a01cc-0602-4dfb-b70f-f6cdc5feb4f7",
   "metadata": {},
   "outputs": [
    {
     "data": {
      "text/plain": [
       "array([58867.06832376])"
      ]
     },
     "execution_count": 3,
     "metadata": {},
     "output_type": "execute_result"
    }
   ],
   "source": [
    "Lin1.predict([[3.5]])"
   ]
  },
  {
   "cell_type": "code",
   "execution_count": 4,
   "id": "aa12cb5e-0e79-4400-926c-59dd42e79f58",
   "metadata": {},
   "outputs": [
    {
     "data": {
      "text/plain": [
       "array([9449.96232146])"
      ]
     },
     "execution_count": 4,
     "metadata": {},
     "output_type": "execute_result"
    }
   ],
   "source": [
    "Lin1.coef_"
   ]
  },
  {
   "cell_type": "code",
   "execution_count": 5,
   "id": "17949699-35f4-41b4-b83c-0da6c7004a39",
   "metadata": {},
   "outputs": [
    {
     "data": {
      "text/plain": [
       "np.float64(25792.20019866871)"
      ]
     },
     "execution_count": 5,
     "metadata": {},
     "output_type": "execute_result"
    }
   ],
   "source": [
    "Lin1.intercept_"
   ]
  },
  {
   "cell_type": "code",
   "execution_count": 6,
   "id": "329286fd-d0da-4c60-bab8-a1c093b5fb00",
   "metadata": {},
   "outputs": [],
   "source": [
    "import joblib"
   ]
  },
  {
   "cell_type": "code",
   "execution_count": 7,
   "id": "76ec5b1f-20df-4d2b-a5d1-7e63fad91c8c",
   "metadata": {},
   "outputs": [],
   "source": [
    "Lin2 = joblib.load('model_joblib')"
   ]
  },
  {
   "cell_type": "code",
   "execution_count": 8,
   "id": "571668e4-4996-4de2-a95c-8135efcd24c8",
   "metadata": {},
   "outputs": [
    {
     "data": {
      "text/plain": [
       "array([9449.96232146])"
      ]
     },
     "execution_count": 8,
     "metadata": {},
     "output_type": "execute_result"
    }
   ],
   "source": [
    "Lin2.coef_"
   ]
  },
  {
   "cell_type": "code",
   "execution_count": null,
   "id": "6d98b6e4-f29e-4569-9e89-e0efcf212c19",
   "metadata": {},
   "outputs": [],
   "source": []
  }
 ],
 "metadata": {
  "kernelspec": {
   "display_name": "Python 3 (ipykernel)",
   "language": "python",
   "name": "python3"
  },
  "language_info": {
   "codemirror_mode": {
    "name": "ipython",
    "version": 3
   },
   "file_extension": ".py",
   "mimetype": "text/x-python",
   "name": "python",
   "nbconvert_exporter": "python",
   "pygments_lexer": "ipython3",
   "version": "3.11.0"
  }
 },
 "nbformat": 4,
 "nbformat_minor": 5
}
